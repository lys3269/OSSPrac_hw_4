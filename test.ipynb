{
 "cells": [
  {
   "cell_type": "code",
   "execution_count": 1,
   "id": "e7ff56d7",
   "metadata": {},
   "outputs": [
    {
     "name": "stdout",
     "output_type": "stream",
     "text": [
      "<출력>\n",
      "이름을 입력하세요: 이윤서\n",
      "학번을 입력하세요: 2020110483\n"
     ]
    }
   ],
   "source": [
    "print(\"<출력>\")\n",
    "name = input(\"이름을 입력하세요: \")\n",
    "st_id = input(\"학번을 입력하세요: \")"
   ]
  },
  {
   "cell_type": "code",
   "execution_count": null,
   "id": "741e4249",
   "metadata": {},
   "outputs": [],
   "source": []
  }
 ],
 "metadata": {
  "kernelspec": {
   "display_name": "Python 3 (ipykernel)",
   "language": "python",
   "name": "python3"
  },
  "language_info": {
   "codemirror_mode": {
    "name": "ipython",
    "version": 3
   },
   "file_extension": ".py",
   "mimetype": "text/x-python",
   "name": "python",
   "nbconvert_exporter": "python",
   "pygments_lexer": "ipython3",
   "version": "3.9.12"
  }
 },
 "nbformat": 4,
 "nbformat_minor": 5
}
